{
  "nbformat": 4,
  "nbformat_minor": 0,
  "metadata": {
    "colab": {
      "name": "Untitled21.ipynb",
      "provenance": []
    },
    "kernelspec": {
      "name": "python3",
      "display_name": "Python 3"
    }
  },
  "cells": [
    {
      "cell_type": "markdown",
      "metadata": {
        "id": "_H2CLPFkHBJv"
      },
      "source": [
        "# **Question 1**\n",
        "\n",
        "Create a numpy array starting from 2 till 50 with a stepsize of 3. \n"
      ]
    },
    {
      "cell_type": "code",
      "metadata": {
        "id": "W0jZKDTdHKPt",
        "outputId": "eda6f6e8-b165-4e5f-b7a5-761b6396e8cb",
        "colab": {
          "base_uri": "https://localhost:8080/"
        }
      },
      "source": [
        "import numpy as np\n",
        "#creating an array using numpy arange\n",
        "array1 = np.arange(2, 50, 3)\n",
        "print(array1)"
      ],
      "execution_count": 2,
      "outputs": [
        {
          "output_type": "stream",
          "text": [
            "[ 2  5  8 11 14 17 20 23 26 29 32 35 38 41 44 47]\n"
          ],
          "name": "stdout"
        }
      ]
    },
    {
      "cell_type": "markdown",
      "metadata": {
        "id": "0qThL9B4Hgt_"
      },
      "source": [
        "# **Question 2**\n",
        "\n",
        "Accept two lists of 5 elements each from the user.  Convert them to numpy arrays. Concatenate these arrays and print it. Also sort these arrays and print it."
      ]
    },
    {
      "cell_type": "code",
      "metadata": {
        "id": "cvEG_VGEHm3O",
        "outputId": "03a8b531-4a2d-47eb-ae7d-98f75a338537",
        "colab": {
          "base_uri": "https://localhost:8080/"
        }
      },
      "source": [
        "import numpy as np\n",
        "list1 = []\n",
        "list2 = []\n",
        "for i in range(5):                             #Getting values for list 1 by user\n",
        "  x=int(input(\"Values for list1 : \"))\n",
        "  list1.append(x)\n",
        "for i in range(5):\n",
        "  x=int(input(\"Values for list2 : \"))          #Getting values for list 2 by user\n",
        "  list2.append(x)\n",
        "#converting lists into arrays:\n",
        "array1 = np.array(list1)\n",
        "array2 = np.array(list2)\n",
        "#concatenating both the arrays:\n",
        "array = np.concatenate((array1, array2))\n",
        "print(\"Concatenated array: \", array)\n",
        "#sorting the array\n",
        "sortArray = np.sort(array)\n",
        "print(\"Sorted array: \", sortArray)"
      ],
      "execution_count": 4,
      "outputs": [
        {
          "output_type": "stream",
          "text": [
            "Values for list1 : 50\n",
            "Values for list1 : 40\n",
            "Values for list1 : 10\n",
            "Values for list1 : 20\n",
            "Values for list1 : 30\n",
            "Values for list2 : 25\n",
            "Values for list2 : 20\n",
            "Values for list2 : 5\n",
            "Values for list2 : 10\n",
            "Values for list2 : 15\n",
            "Concatenated array:  [50 40 10 20 30 25 20  5 10 15]\n",
            "Sorted array:  [ 5 10 10 15 20 20 25 30 40 50]\n"
          ],
          "name": "stdout"
        }
      ]
    },
    {
      "cell_type": "markdown",
      "metadata": {
        "id": "xfucxXEvJM-Z"
      },
      "source": [
        "# **Question 3**\n",
        "\n",
        "Write a code snippet to find the dimensions of a ndarray and its size."
      ]
    },
    {
      "cell_type": "code",
      "metadata": {
        "id": "rYOwpxlKJSJz",
        "outputId": "80aae9ad-69d9-4655-891c-f19b66b3a59e",
        "colab": {
          "base_uri": "https://localhost:8080/"
        }
      },
      "source": [
        "import numpy as np\n",
        "array1 = np.array([[1,2,3],[1,3,5]])                 #2D array\n",
        "print(\"Dimensions: \", array1.ndim)       #Printing dimensions of array\n",
        "print(\"Size: \", array1.size)             #Printing size of array"
      ],
      "execution_count": 6,
      "outputs": [
        {
          "output_type": "stream",
          "text": [
            "Dimensions:  2\n",
            "Size:  6\n"
          ],
          "name": "stdout"
        }
      ]
    },
    {
      "cell_type": "markdown",
      "metadata": {
        "id": "IF-ZjX1gJri5"
      },
      "source": [
        "# **Question 4**\n",
        "\n",
        "How to convert a 1D array into a 2D array? Demonstrate with the help of a code snippet Hint: np.newaxis, np.expand_dims "
      ]
    },
    {
      "cell_type": "code",
      "metadata": {
        "id": "pvltYg0YJxjX",
        "outputId": "de013ed4-7469-4f19-cb38-a90b1e07527c",
        "colab": {
          "base_uri": "https://localhost:8080/"
        }
      },
      "source": [
        "import numpy as np\n",
        "array1 = np.arange(10)\n",
        "print(\"Shape: \",array1.shape)\n",
        "#converting in row wise\n",
        "row_array = array1[np.newaxis, :]\n",
        "print(\"Shape of 2D Array in row: \",row_array.shape)\n",
        "#converting in column wise\n",
        "col_array = array1[:, np.newaxis]\n",
        "print(\"Shape of 2D Array in column: \",col_array.shape)"
      ],
      "execution_count": 8,
      "outputs": [
        {
          "output_type": "stream",
          "text": [
            "Shape:  (10,)\n",
            "Shape of 2D Array in row:  (1, 10)\n",
            "Shape of 2D Array in column:  (10, 1)\n"
          ],
          "name": "stdout"
        }
      ]
    },
    {
      "cell_type": "markdown",
      "metadata": {
        "id": "AKgl8o8OKlt0"
      },
      "source": [
        "# **Question 5**\n",
        "\n",
        "Consider two square numpy arrays. Stack them vertically and horizontally. Hint: Use vstack(), hstack() "
      ]
    },
    {
      "cell_type": "code",
      "metadata": {
        "id": "VT9beeQcKttd",
        "outputId": "7601291a-780b-4593-fd43-a28b7195b00c",
        "colab": {
          "base_uri": "https://localhost:8080/"
        }
      },
      "source": [
        "import numpy as np\n",
        "#creating two arrays with square values using square function\n",
        "array1 = np.square([1, 2, 3, 4, 5])\n",
        "array2 = np.square([11, 12, 13, 14, 15])\n",
        "#printing the value using stack function\n",
        "print(\"Horizontal Stack : \", np.hstack((array1, array2)))\n",
        "print(\"Vertical Stack : \", np.vstack((array1, array2)))"
      ],
      "execution_count": 11,
      "outputs": [
        {
          "output_type": "stream",
          "text": [
            "Horizontal Stack :  [  1   4   9  16  25 121 144 169 196 225]\n",
            "Vertical Stack :  [[  1   4   9  16  25]\n",
            " [121 144 169 196 225]]\n"
          ],
          "name": "stdout"
        }
      ]
    },
    {
      "cell_type": "markdown",
      "metadata": {
        "id": "2Cr2h1N6LlUd"
      },
      "source": [
        "# **Question 6**\n",
        "\n",
        "How to get unique items and counts of unique items."
      ]
    },
    {
      "cell_type": "code",
      "metadata": {
        "id": "KC_C7s4TLsgl",
        "outputId": "d6f93dda-3601-49de-b0ae-3f165880d86e",
        "colab": {
          "base_uri": "https://localhost:8080/"
        }
      },
      "source": [
        "import numpy as np\n",
        "array1 = np.array([1, 4, 9, 16, 25, 121, 144, 169, 196, 225, 1, 2, 3, 4, 5, 11, 12, 13, 14, 15])\n",
        "#printing unique charater and the count\n",
        "unique, counts = np.unique(array1, return_counts=True)\n",
        "array2 = np.asarray((unique, counts)).T\n",
        "print(array2)\n"
      ],
      "execution_count": 14,
      "outputs": [
        {
          "output_type": "stream",
          "text": [
            "[[  1   2]\n",
            " [  2   1]\n",
            " [  3   1]\n",
            " [  4   2]\n",
            " [  5   1]\n",
            " [  9   1]\n",
            " [ 11   1]\n",
            " [ 12   1]\n",
            " [ 13   1]\n",
            " [ 14   1]\n",
            " [ 15   1]\n",
            " [ 16   1]\n",
            " [ 25   1]\n",
            " [121   1]\n",
            " [144   1]\n",
            " [169   1]\n",
            " [196   1]\n",
            " [225   1]]\n"
          ],
          "name": "stdout"
        }
      ]
    }
  ]
}