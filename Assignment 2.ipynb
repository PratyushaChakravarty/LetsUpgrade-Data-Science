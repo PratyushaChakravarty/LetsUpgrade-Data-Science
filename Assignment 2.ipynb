{
  "nbformat": 4,
  "nbformat_minor": 0,
  "metadata": {
    "colab": {
      "name": "Untitled19.ipynb",
      "provenance": []
    },
    "kernelspec": {
      "name": "python3",
      "display_name": "Python 3"
    }
  },
  "cells": [
    {
      "cell_type": "code",
      "metadata": {
        "id": "XXUdxAm8xBDp",
        "outputId": "db2fb15d-d306-4a0a-b0d0-2ded353972f9",
        "colab": {
          "base_uri": "https://localhost:8080/"
        }
      },
      "source": [
        "#Question 1\n",
        "\n",
        "list1 = []\n",
        "for i in range(0,10):\n",
        "  number = input()\n",
        "  if int(number) % 2 == 0:\n",
        "    list1.append(number)\n",
        "print(list1)"
      ],
      "execution_count": 1,
      "outputs": [
        {
          "output_type": "stream",
          "text": [
            "1\n",
            "2\n",
            "3\n",
            "4\n",
            "5\n",
            "6\n",
            "7\n",
            "8\n",
            "9\n",
            "10\n",
            "['2', '4', '6', '8', '10']\n"
          ],
          "name": "stdout"
        }
      ]
    },
    {
      "cell_type": "markdown",
      "metadata": {
        "id": "tiMZE2wdxgXU"
      },
      "source": [
        "#Question 2\n",
        "\n",
        "List comprehension is a way to create and to apply functions in a list of item. It can be used to apply condition for the items in the list. It can be used in place of for loops and lambda function.\n",
        "\n",
        "The syntax for List comprehension is as follows:\n",
        " \n",
        " list_name = [expression for_loop_one_or_more conditions]\n",
        "\n",
        "For example:"
      ]
    },
    {
      "cell_type": "code",
      "metadata": {
        "id": "Fjem2xVUxvcO",
        "outputId": "e0decc98-13c9-45ec-fd00-3c62ac553548",
        "colab": {
          "base_uri": "https://localhost:8080/"
        }
      },
      "source": [
        "#Finding common number between two list using List Comprehension\n",
        "\n",
        "list1 = [2, 4, 6, 8, 10]\n",
        "list2 = [1, 2, 3, 4, 5]\n",
        "common = [num1 for num1 in list1 for num2 in list2 if num1 == num2]\n",
        "print(common)"
      ],
      "execution_count": 2,
      "outputs": [
        {
          "output_type": "stream",
          "text": [
            "[2, 4]\n"
          ],
          "name": "stdout"
        }
      ]
    },
    {
      "cell_type": "code",
      "metadata": {
        "id": "4oXyZU6nyVl1",
        "outputId": "a43200c9-e7bc-4789-a9bb-b0f25ffb1892",
        "colab": {
          "base_uri": "https://localhost:8080/"
        }
      },
      "source": [
        "#Question 3\n",
        "\n",
        "dict={}\n",
        "num=int(input())\n",
        "for i in range(0,num):\n",
        "  i=int(input())\n",
        "  dict[i]=i*i\n",
        "print(dict)"
      ],
      "execution_count": 2,
      "outputs": [
        {
          "output_type": "stream",
          "text": [
            "4\n",
            "1\n",
            "2\n",
            "3\n",
            "4\n",
            "{1: 1, 2: 4, 3: 9, 4: 16}\n"
          ],
          "name": "stdout"
        }
      ]
    },
    {
      "cell_type": "code",
      "metadata": {
        "id": "WdWaaJ0K1obG",
        "outputId": "68cf235b-77c4-461b-fa31-52ff61ccf308",
        "colab": {
          "base_uri": "https://localhost:8080/"
        }
      },
      "source": [
        "#Question 4\n",
        "\n",
        "pos = {\"x\":0,\"y\":0}\n",
        "n = int(input())\n",
        "for i in range (n):\n",
        "    move =  input().split(\" \")      \n",
        "    if move[0].lower() == \"up\":     \n",
        "        pos[\"y\"] += int(move[1])    \n",
        "    elif move[0].lower() == \"down\":\n",
        "        pos[\"y\"] -= int(move[1])\n",
        "    elif move[0].lower() == \"left\":\n",
        "        pos[\"x\"] -= int(move[1])\n",
        "    elif move[0].lower() == \"right\":\n",
        "        pos[\"x\"] += int(move[1])\n",
        "print(int(round((pos[\"x\"]**2 + pos[\"y\"]**2)**0.5)))   # DISTANCE FROM ORIGIN"
      ],
      "execution_count": 7,
      "outputs": [
        {
          "output_type": "stream",
          "text": [
            "4\n",
            "UP 5\n",
            "DOWN 3\n",
            "LEFT 3\n",
            "RIGHT 2\n",
            "2\n"
          ],
          "name": "stdout"
        }
      ]
    }
  ]
}