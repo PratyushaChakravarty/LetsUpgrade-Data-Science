{
  "nbformat": 4,
  "nbformat_minor": 0,
  "metadata": {
    "colab": {
      "name": "Untitled16.ipynb",
      "provenance": []
    },
    "kernelspec": {
      "name": "python3",
      "display_name": "Python 3"
    }
  },
  "cells": [
    {
      "cell_type": "code",
      "metadata": {
        "id": "40zQuX8z_wB7"
      },
      "source": [
        "#Question 1\n",
        "\n",
        "The jumbled word : OBANWRI\n",
        "The right option : (B) RAINBOW\n"
      ],
      "execution_count": null,
      "outputs": []
    },
    {
      "cell_type": "code",
      "metadata": {
        "id": "nme_bDYACDGH",
        "outputId": "9610a639-f6d7-42f4-b00c-4d27d2f9698d",
        "colab": {
          "base_uri": "https://localhost:8080/"
        }
      },
      "source": [
        "#Question 2\n",
        "\n",
        "str = input()\n",
        "print(str.upper())"
      ],
      "execution_count": 1,
      "outputs": [
        {
          "output_type": "stream",
          "text": [
            "lets upgrade\n",
            "LETS UPGRADE\n"
          ],
          "name": "stdout"
        }
      ]
    },
    {
      "cell_type": "code",
      "metadata": {
        "id": "pTj7igOZCb2e",
        "outputId": "94ee15cb-a24e-47b2-9178-e8e0d491e327",
        "colab": {
          "base_uri": "https://localhost:8080/"
        }
      },
      "source": [
        "#Question 3 \n",
        "#Printing Profit\n",
        "\n",
        "cp = input()\n",
        "sp = input()\n",
        "if(cp<sp):\n",
        "  print(\"Profit\")\n",
        "elif(cp>sp):\n",
        "  print(\"Loss\")\n",
        "else:\n",
        "  print(\"Neither\")"
      ],
      "execution_count": 2,
      "outputs": [
        {
          "output_type": "stream",
          "text": [
            "20\n",
            "30\n",
            "Profit\n"
          ],
          "name": "stdout"
        }
      ]
    },
    {
      "cell_type": "code",
      "metadata": {
        "id": "mogn4uy2DP-C",
        "outputId": "1c208953-2f6c-4c02-855d-36cef26b657b",
        "colab": {
          "base_uri": "https://localhost:8080/"
        }
      },
      "source": [
        "#Question 4\n",
        "euro = input()\n",
        "euro = int(euro)\n",
        "indian_rupee = euro * 80\n",
        "print(indian_rupee)"
      ],
      "execution_count": 5,
      "outputs": [
        {
          "output_type": "stream",
          "text": [
            "20\n",
            "1600\n"
          ],
          "name": "stdout"
        }
      ]
    }
  ]
}